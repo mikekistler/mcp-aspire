{
 "cells": [
  {
   "cell_type": "markdown",
   "id": "fb00dc65",
   "metadata": {},
   "source": [
    "# Mcp Protocol Messages"
   ]
  },
  {
   "cell_type": "markdown",
   "id": "6632b338",
   "metadata": {},
   "source": [
    "## Ping"
   ]
  },
  {
   "cell_type": "code",
   "execution_count": 1,
   "id": "6c09cef9",
   "metadata": {
    "language_info": {
     "name": "polyglot-notebook"
    },
    "polyglot_notebook": {
     "kernelName": "pwsh"
    }
   },
   "outputs": [
    {
     "name": "stdout",
     "output_type": "stream",
     "text": [
      "HTTP/1.1 200 OK\n",
      "Content-Type: text/event-stream\n",
      "Date: Fri, 01 Aug 2025 00:32:46 GMT\n",
      "Server: Kestrel\n",
      "Cache-Control: no-cache,no-store\n",
      "Content-Encoding: identity\n",
      "Transfer-Encoding: chunked\n",
      "Mcp-Session-Id: qE1hDeh6qFz7MfBhM3DG2w\n",
      "\n",
      "event: message\n",
      "data: {\"result\":{},\"id\":1,\"jsonrpc\":\"2.0\"}\n",
      "\n"
     ]
    }
   ],
   "source": [
    "curl -s -D - -X POST http://localhost:3001 `\n",
    "-H \"ProtocolVersion: 2025-06-18\" `\n",
    "-H \"Accept: application/json, text/event-stream\" `\n",
    "-H \"Content-Type: application/json\" `\n",
    "-d '{\n",
    "    \"jsonrpc\": \"2.0\",\n",
    "    \"id\": 1,\n",
    "    \"method\": \"ping\"\n",
    "}'"
   ]
  },
  {
   "cell_type": "markdown",
   "id": "d6736aa7",
   "metadata": {},
   "source": [
    "## Initialize"
   ]
  },
  {
   "cell_type": "code",
   "execution_count": null,
   "metadata": {
    "language_info": {
     "name": "polyglot-notebook"
    },
    "polyglot_notebook": {
     "kernelName": "pwsh"
    }
   },
   "outputs": [],
   "source": [
    "curl -s -D - -X POST http://localhost:3001 `\n",
    "-H \"ProtocolVersion: 2025-06-18\" `\n",
    "-H \"Accept: application/json, text/event-stream\" `\n",
    "-H \"Content-Type: application/json\" `\n",
    "-d '{\n",
    "    \"jsonrpc\": \"2.0\",\n",
    "    \"id\": 1,\n",
    "    \"method\": \"initialize\",\n",
    "    \"params\": {\n",
    "        \"clientInfo\": {\n",
    "            \"name\": \"RestClient\",\n",
    "            \"version\": \"0.1.0\"\n",
    "        },\n",
    "        \"capabilities\": {},\n",
    "        \"protocolVersion\": \"{{ProtocolVersion}}\"\n",
    "    }\n",
    "}'"
   ]
  },
  {
   "cell_type": "code",
   "execution_count": null,
   "metadata": {
    "language_info": {
     "name": "polyglot-notebook"
    },
    "polyglot_notebook": {
     "kernelName": "pwsh"
    }
   },
   "outputs": [],
   "source": [
    "# Save the Mcp-Session ID from the response for subsequent requests\n",
    "#!set --name McpSessionId --value GLh-x6CIRbV6icKmSQiosw"
   ]
  },
  {
   "cell_type": "markdown",
   "id": "2a025651",
   "metadata": {},
   "source": [
    "## Tools List"
   ]
  },
  {
   "cell_type": "code",
   "execution_count": null,
   "metadata": {
    "language_info": {
     "name": "polyglot-notebook"
    },
    "polyglot_notebook": {
     "kernelName": "pwsh"
    }
   },
   "outputs": [],
   "source": [
    "curl -s -X POST http://localhost:3001 `\n",
    "-H \"ProtocolVersion: 2025-06-18\" `\n",
    "-H \"Accept: application/json, text/event-stream\" `\n",
    "-H \"Content-Type: application/json\" `\n",
    "-H \"Mcp-Session-Id: $McpSessionId\" `\n",
    "-d '{\n",
    "    \"jsonrpc\": \"2.0\",\n",
    "    \"id\": 2,\n",
    "    \"method\": \"tools/list\"\n",
    "}' | Where-Object { $_ -like \"data:*\" } | ForEach-Object { $_.Substring(5) } | jq"
   ]
  },
  {
   "cell_type": "markdown",
   "id": "6c7c5ac9",
   "metadata": {},
   "source": [
    "## Tool Call"
   ]
  },
  {
   "cell_type": "code",
   "execution_count": null,
   "id": "0986d534",
   "metadata": {
    "language_info": {
     "name": "polyglot-notebook"
    },
    "polyglot_notebook": {
     "kernelName": "pwsh"
    }
   },
   "outputs": [],
   "source": [
    "curl -s -X POST http://localhost:3001 `\n",
    "-H \"ProtocolVersion: 2025-06-18\" `\n",
    "-H \"Accept: application/json, text/event-stream\" `\n",
    "-H \"Content-Type: application/json\" `\n",
    "-H \"Mcp-Session-Id: $McpSessionId\" `\n",
    "-d '{\n",
    "    \"jsonrpc\": \"2.0\",\n",
    "    \"id\": 2,\n",
    "    \"method\": \"tools/call\",\n",
    "    \"params\": {\n",
    "        \"name\": \"add\",\n",
    "        \"arguments\": {\n",
    "            \"a\": 5,\n",
    "            \"b\": 3\n",
    "        }\n",
    "    }\n",
    "}' | Where-Object { $_ -like \"data:*\" } | ForEach-Object { $_.Substring(5) } | jq"
   ]
  },
  {
   "cell_type": "code",
   "execution_count": null,
   "metadata": {
    "language_info": {
     "name": "polyglot-notebook"
    },
    "polyglot_notebook": {
     "kernelName": "pwsh"
    }
   },
   "outputs": [],
   "source": [
    "curl -s -D - -X GET http://localhost:3001 `\n",
    "-H \"ProtocolVersion: 2025-06-18\" `\n",
    "-H \"Accept: application/json, text/event-stream\" `\n",
    "-H \"Mcp-Session-Id: $McpSessionId\""
   ]
  },
  {
   "cell_type": "code",
   "execution_count": null,
   "metadata": {
    "language_info": {
     "name": "polyglot-notebook"
    },
    "polyglot_notebook": {
     "kernelName": "pwsh"
    }
   },
   "outputs": [],
   "source": []
  },
  {
   "cell_type": "code",
   "execution_count": null,
   "metadata": {
    "language_info": {
     "name": "polyglot-notebook"
    },
    "polyglot_notebook": {
     "kernelName": "csharp"
    }
   },
   "outputs": [],
   "source": [
    "#nullable enable\n",
    "// C# code to make an http request to call the `get_products` tool\n",
    "// And handle the SSE response\n",
    "using System.Collections.Generic;\n",
    "using System.Net.Http;\n",
    "using System.Threading.Tasks;\n",
    "using System.Text.Json;\n",
    "using System.IO;\n",
    "\n",
    "// Send an HTTP POST request to http://localhost:3001\n",
    "// and handle the Server-Sent Events (SSE) response.\n",
    "var httpClient = new HttpClient();\n",
    "\n",
    "// Set the standard headers for requests to the MCP server\n",
    "httpClient.DefaultRequestHeaders.Add(\"MCP-Protocol-Version\", \"2025-06-18\");\n",
    "httpClient.DefaultRequestHeaders.Add(\"Accept\", \"application/json, text/event-stream\");\n",
    "//httpClient.DefaultRequestHeaders.Add(\"Content-Type\", \"application/json\");\n",
    "\n",
    "// The request body should be a JSON RPC request to call the `LongRunningOperation` tool\n",
    "var requestBody = new\n",
    "{\n",
    "    jsonrpc = \"2.0\",\n",
    "    id = 2,\n",
    "    method = \"tools/call\",\n",
    "    @params = new\n",
    "    {\n",
    "        _meta = new\n",
    "        {\n",
    "            progressToken = \"abc123\"\n",
    "        },\n",
    "        name = \"longRunningOperation\"\n",
    "    }\n",
    "};\n",
    "var response = await httpClient.PostAsync(\"http://localhost:3001/\", new StringContent(JsonSerializer.Serialize(requestBody), Encoding.UTF8, \"application/json\"));\n",
    "response.EnsureSuccessStatusCode();\n",
    "\n",
    "var reader = new StreamReader(await response.Content.ReadAsStreamAsync());\n",
    "while (!reader.EndOfStream)\n",
    "{\n",
    "    var line = await reader.ReadLineAsync();\n",
    "    Console.WriteLine(line);\n",
    "}\n"
   ]
  },
  {
   "cell_type": "code",
   "execution_count": null,
   "metadata": {
    "language_info": {
     "name": "polyglot-notebook"
    },
    "polyglot_notebook": {
     "kernelName": "csharp"
    }
   },
   "outputs": [],
   "source": [
    "// Send an HTTP GET request to http://localhost:3001\n",
    "// and handle the Server-Sent Events (SSE) response.\n",
    "var httpClient = new HttpClient();\n",
    "\n",
    "// Set the standard headers for requests to the MCP server\n",
    "httpClient.DefaultRequestHeaders.Add(\"MCP-Protocol-Version\", \"2025-06-18\");\n",
    "httpClient.DefaultRequestHeaders.Add(\"Accept\", \"application/json, text/event-stream\");\n",
    "\n",
    "var response = await httpClient.GetAsync(\"http://localhost:3001/\");\n",
    "response.EnsureSuccessStatusCode();\n",
    "\n",
    "var reader = new StreamReader(await response.Content.ReadAsStreamAsync());\n",
    "while (!reader.EndOfStream)\n",
    "{\n",
    "    var line = await reader.ReadLineAsync();\n",
    "    Console.WriteLine(line);\n",
    "}"
   ]
  }
 ],
 "metadata": {
  "kernelspec": {
   "display_name": ".NET (PowerShell)",
   "language": "PowerShell",
   "name": ".net-pwsh"
  },
  "language_info": {
   "name": "polyglot-notebook"
  },
  "polyglot_notebook": {
   "kernelInfo": {
    "defaultKernelName": "pwsh",
    "items": [
     {
      "aliases": [],
      "languageName": "pwsh",
      "name": "pwsh"
     }
    ]
   }
  }
 },
 "nbformat": 4,
 "nbformat_minor": 5
}
